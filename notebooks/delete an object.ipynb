{
 "cells": [
  {
   "cell_type": "markdown",
   "metadata": {
    "deletable": true,
    "editable": true
   },
   "source": [
    "## delete an object method to IDigBioStorage \n",
    "\n"
   ]
  },
  {
   "cell_type": "code",
   "execution_count": 1,
   "metadata": {
    "collapsed": true,
    "deletable": true,
    "editable": true
   },
   "outputs": [],
   "source": [
    "from __future__ import division, absolute_import, print_function\n"
   ]
  },
  {
   "cell_type": "code",
   "execution_count": 2,
   "metadata": {
    "collapsed": true,
    "deletable": true,
    "editable": true
   },
   "outputs": [],
   "source": [
    "from idb.postgres_backend import apidbpool\n",
    "from idb.helpers.logging import idblogger"
   ]
  },
  {
   "cell_type": "code",
   "execution_count": 3,
   "metadata": {
    "collapsed": false,
    "deletable": true,
    "editable": true
   },
   "outputs": [],
   "source": [
    "from idb.helpers.storage import IDigBioStorage"
   ]
  },
  {
   "cell_type": "code",
   "execution_count": 4,
   "metadata": {
    "collapsed": true,
    "deletable": true,
    "editable": true
   },
   "outputs": [],
   "source": [
    "store = IDigBioStorage()\n"
   ]
  },
  {
   "cell_type": "code",
   "execution_count": 5,
   "metadata": {
    "collapsed": true,
    "deletable": true,
    "editable": true
   },
   "outputs": [],
   "source": [
    "#bucket = store.get_bucket(\"idigbio-images-prod-fullsize\")\n",
    "                        "
   ]
  },
  {
   "cell_type": "code",
   "execution_count": 6,
   "metadata": {
    "collapsed": true,
    "deletable": true,
    "editable": true
   },
   "outputs": [],
   "source": [
    "newkey = store.get_key('ABC123.png', 'idigbio-images-prod-fullsize')"
   ]
  },
  {
   "cell_type": "code",
   "execution_count": 17,
   "metadata": {
    "collapsed": false,
    "deletable": true,
    "editable": true
   },
   "outputs": [],
   "source": [
    "## upload a sample image, then delete it\n",
    "myfilename = '/home/dstoner/Documents/ABC123.png'\n",
    "\n",
    "with open(myfilename) as f:\n",
    "    k = store.upload(newkey, f, content_type=\"image/png\", public=True)"
   ]
  },
  {
   "cell_type": "code",
   "execution_count": 18,
   "metadata": {
    "collapsed": false,
    "deletable": true,
    "editable": true
   },
   "outputs": [
    {
     "data": {
      "text/plain": [
       "<Bucket: idigbio-images-prod-fullsize>"
      ]
     },
     "execution_count": 18,
     "metadata": {},
     "output_type": "execute_result"
    }
   ],
   "source": [
    "k.bucket"
   ]
  },
  {
   "cell_type": "code",
   "execution_count": 19,
   "metadata": {
    "collapsed": false,
    "deletable": true,
    "editable": true
   },
   "outputs": [
    {
     "data": {
      "text/plain": [
       "'ABC123.png'"
      ]
     },
     "execution_count": 19,
     "metadata": {},
     "output_type": "execute_result"
    }
   ],
   "source": [
    "k.name"
   ]
  },
  {
   "cell_type": "code",
   "execution_count": 20,
   "metadata": {
    "collapsed": false
   },
   "outputs": [
    {
     "data": {
      "text/plain": [
       "True"
      ]
     },
     "execution_count": 20,
     "metadata": {},
     "output_type": "execute_result"
    }
   ],
   "source": [
    "k.exists()"
   ]
  },
  {
   "cell_type": "code",
   "execution_count": 21,
   "metadata": {
    "collapsed": false,
    "deletable": true,
    "editable": true
   },
   "outputs": [
    {
     "data": {
      "text/plain": [
       "<Key: idigbio-images-prod-fullsize,ABC123.png>"
      ]
     },
     "execution_count": 21,
     "metadata": {},
     "output_type": "execute_result"
    }
   ],
   "source": [
    "k.delete()"
   ]
  },
  {
   "cell_type": "code",
   "execution_count": 22,
   "metadata": {
    "collapsed": false,
    "deletable": true,
    "editable": true
   },
   "outputs": [
    {
     "data": {
      "text/plain": [
       "<Bucket: idigbio-images-prod-fullsize>"
      ]
     },
     "execution_count": 22,
     "metadata": {},
     "output_type": "execute_result"
    }
   ],
   "source": [
    "k.bucket"
   ]
  },
  {
   "cell_type": "code",
   "execution_count": 23,
   "metadata": {
    "collapsed": false,
    "deletable": true,
    "editable": true
   },
   "outputs": [
    {
     "data": {
      "text/plain": [
       "'ABC123.png'"
      ]
     },
     "execution_count": 23,
     "metadata": {},
     "output_type": "execute_result"
    }
   ],
   "source": [
    "k.name"
   ]
  },
  {
   "cell_type": "code",
   "execution_count": 24,
   "metadata": {
    "collapsed": false
   },
   "outputs": [
    {
     "data": {
      "text/plain": [
       "False"
      ]
     },
     "execution_count": 24,
     "metadata": {},
     "output_type": "execute_result"
    }
   ],
   "source": [
    "### after deleted, should be False\n",
    "k.exists()\n"
   ]
  },
  {
   "cell_type": "markdown",
   "metadata": {
    "collapsed": true,
    "deletable": true,
    "editable": true
   },
   "source": [
    "\n",
    "\n",
    "\n"
   ]
  },
  {
   "cell_type": "markdown",
   "metadata": {
    "deletable": true,
    "editable": true
   },
   "source": [
    "## Delete a list of recordset objects by uuid...\n"
   ]
  },
  {
   "cell_type": "markdown",
   "metadata": {},
   "source": [
    "## Not sure why we would want to do this.\n"
   ]
  },
  {
   "cell_type": "code",
   "execution_count": 25,
   "metadata": {
    "collapsed": true,
    "deletable": true,
    "editable": true
   },
   "outputs": [],
   "source": [
    "from idb.postgres_backend.db import PostgresDB\n",
    "idbmodel = PostgresDB()"
   ]
  },
  {
   "cell_type": "code",
   "execution_count": 26,
   "metadata": {
    "collapsed": true,
    "deletable": true,
    "editable": true
   },
   "outputs": [],
   "source": [
    "bucket_name = 'idigbio-datasets-prod'\n",
    "baseurl = 'http://api.idigbio.org/v1/recordsets/'"
   ]
  },
  {
   "cell_type": "code",
   "execution_count": 27,
   "metadata": {
    "collapsed": true,
    "deletable": true,
    "editable": true
   },
   "outputs": [],
   "source": [
    "keys_to_delete = [\n",
    "#\"02fceae6-c71c-4db9-8b2f-e235ced6624a\",\n",
    "\"04d9b721-259c-4d6b-b48f-2e23edf66c9f\",\n",
    "\"11d3ad3b-38de-4709-8544-ec3c26d96607\",\n",
    "\"15aa4812-aad2-4b26-a1d8-d4f8d79e6163\",\n",
    "\"1eca069b-09e0-406d-9625-cb9c52e1e5cc\",\n",
    "\"252a0a12-f114-4fb5-aa9a-678c523d6dcd\",\n",
    "\"285a4be0-5cfe-4d4f-9c8b-b0f0f3571079\",\n",
    "\"37d4d085-d8be-4826-9bc4-c6a36557fa70\",\n",
    "\"7b0809fb-fd62-4733-8f40-74ceb04cbcac\",\n",
    "\"91c5eec8-0cdc-4be2-9a99-a15ae5ec3edc\",\n",
    "\"97e4947d-fce9-4019-9f86-c0d94c820269\",\n",
    "\"9e103d5f-fc45-4375-b416-802659e6dc1b\",\n",
    "\"a062eb42-d5c6-4332-8c88-64b4ac1af892\",\n",
    "\"b7349341-c8e2-4628-be5f-77600ba730fa\",\n",
    "\"cf641fbf-fa31-481a-993b-9204f2ee1884\",\n",
    "\"da67ebd9-52de-444d-b114-e23c03111ac6\",\n",
    "\"e5b0c46a-5eb6-4b94-9d4c-fb1000f534b0\",\n",
    "\"e95396c4-1cac-4c9b-b461-5f21cd978fc6\",\n",
    "\"ec248223-f277-4c02-b1fa-60056b5a689a\",\n",
    "\"fc628e53-5fdf-4436-9782-bf637d812b48\"\n",
    "]"
   ]
  },
  {
   "cell_type": "code",
   "execution_count": 28,
   "metadata": {
    "collapsed": false,
    "deletable": true,
    "editable": true
   },
   "outputs": [],
   "source": [
    "try_one = store.get_key_by_url(url=baseurl+\"02fceae6-c71c-4db9-8b2f-e235ced6624a\", idbmodel=idbmodel)"
   ]
  },
  {
   "cell_type": "code",
   "execution_count": 29,
   "metadata": {
    "collapsed": false,
    "deletable": true,
    "editable": true
   },
   "outputs": [
    {
     "data": {
      "text/plain": [
       "<Key: idigbio-datasets-prod,328bee761b2aa6511dbb78f7356c835e>"
      ]
     },
     "execution_count": 29,
     "metadata": {},
     "output_type": "execute_result"
    }
   ],
   "source": [
    "try_one"
   ]
  },
  {
   "cell_type": "code",
   "execution_count": 30,
   "metadata": {
    "collapsed": false,
    "deletable": true,
    "editable": true
   },
   "outputs": [
    {
     "data": {
      "text/plain": [
       "<Key: idigbio-datasets-prod,328bee761b2aa6511dbb78f7356c835e>"
      ]
     },
     "execution_count": 30,
     "metadata": {},
     "output_type": "execute_result"
    }
   ],
   "source": [
    "try_one.delete()"
   ]
  },
  {
   "cell_type": "code",
   "execution_count": 18,
   "metadata": {
    "collapsed": true,
    "deletable": true,
    "editable": true
   },
   "outputs": [],
   "source": [
    "for each in keys_to_delete:\n",
    "    obj_to_del = store.get_key_by_url(url=baseurl+each, idbmodel=idbmodel)\n",
    "    obj_to_del.delete()"
   ]
  },
  {
   "cell_type": "code",
   "execution_count": null,
   "metadata": {
    "collapsed": true,
    "deletable": true,
    "editable": true
   },
   "outputs": [],
   "source": []
  }
 ],
 "metadata": {
  "kernelspec": {
   "display_name": "Python 2",
   "language": "python",
   "name": "python2"
  },
  "language_info": {
   "codemirror_mode": {
    "name": "ipython",
    "version": 2
   },
   "file_extension": ".py",
   "mimetype": "text/x-python",
   "name": "python",
   "nbconvert_exporter": "python",
   "pygments_lexer": "ipython2",
   "version": "2.7.6"
  }
 },
 "nbformat": 4,
 "nbformat_minor": 2
}
