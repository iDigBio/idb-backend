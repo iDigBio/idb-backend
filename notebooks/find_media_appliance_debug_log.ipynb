{
 "cells": [
  {
   "cell_type": "code",
   "execution_count": 1,
   "metadata": {
    "collapsed": false,
    "deletable": true,
    "editable": true
   },
   "outputs": [],
   "source": [
    "from __future__ import absolute_import\n",
    "from idb.config import config\n",
    "from idb.helpers.storage import IDigBioStorage\n",
    "from idb.postgres_backend.db import PostgresDB\n"
   ]
  },
  {
   "cell_type": "code",
   "execution_count": 2,
   "metadata": {
    "collapsed": false,
    "deletable": true,
    "editable": true
   },
   "outputs": [],
   "source": [
    "STORE = IDigBioStorage()\n",
    "idbmodel = PostgresDB()\n",
    "sql = \"\"\"SELECT url from media where type = 'debugfile' order by last_check desc\"\"\"\n",
    "url = idbmodel.fetchone(sql)[0]\n"
   ]
  },
  {
   "cell_type": "code",
   "execution_count": 3,
   "metadata": {
    "collapsed": false,
    "deletable": true,
    "editable": true
   },
   "outputs": [
    {
     "data": {
      "text/plain": [
       "u'/tmp/debug_6b0a4a5b4b05502696bb11f4ebbe3fad.zip'"
      ]
     },
     "execution_count": 3,
     "metadata": {},
     "output_type": "execute_result"
    }
   ],
   "source": [
    "# url = 'acf7b3e2-e5b3-49d6-a644-52985d2bde4a_2017-01-31T10:17:28.046900_debug.zip'\n",
    "key = STORE.get_key_by_url(url,idbmodel=idbmodel)\n",
    "STORE.get_contents_to_filename(key,'/tmp/debug_'+key.key.format() +'.zip')\n",
    "\n"
   ]
  },
  {
   "cell_type": "code",
   "execution_count": null,
   "metadata": {
    "collapsed": true
   },
   "outputs": [],
   "source": []
  }
 ],
 "metadata": {
  "kernelspec": {
   "display_name": "Python 2",
   "language": "python",
   "name": "python2"
  },
  "language_info": {
   "codemirror_mode": {
    "name": "ipython",
    "version": 2
   },
   "file_extension": ".py",
   "mimetype": "text/x-python",
   "name": "python",
   "nbconvert_exporter": "python",
   "pygments_lexer": "ipython2",
   "version": "2.7.6"
  }
 },
 "nbformat": 4,
 "nbformat_minor": 2
}
